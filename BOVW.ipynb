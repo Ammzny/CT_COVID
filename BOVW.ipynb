{
  "nbformat": 4,
  "nbformat_minor": 0,
  "metadata": {
    "colab": {
      "name": "Untitled11.ipynb",
      "provenance": [],
      "authorship_tag": "ABX9TyM+XNhu6pJuaSRp/+GPyNH9",
      "include_colab_link": true
    },
    "kernelspec": {
      "name": "python3",
      "display_name": "Python 3"
    },
    "language_info": {
      "name": "python"
    }
  },
  "cells": [
    {
      "cell_type": "markdown",
      "metadata": {
        "id": "view-in-github",
        "colab_type": "text"
      },
      "source": [
        "<a href=\"https://colab.research.google.com/github/Ammzny/CT_COVID/blob/main/BOVW.ipynb\" target=\"_parent\"><img src=\"https://colab.research.google.com/assets/colab-badge.svg\" alt=\"Open In Colab\"/></a>"
      ]
    },
    {
      "cell_type": "code",
      "metadata": {
        "colab": {
          "base_uri": "https://localhost:8080/"
        },
        "id": "op3A4HHU09_q",
        "outputId": "444bf678-9a49-4a18-b08d-da7c5f01fb43"
      },
      "source": [
        "!git clone https://github.com/Ammzny/CT_COVID"
      ],
      "execution_count": 1,
      "outputs": [
        {
          "output_type": "stream",
          "text": [
            "Cloning into 'CT_COVID'...\n",
            "remote: Enumerating objects: 1944, done.\u001b[K\n",
            "remote: Counting objects: 100% (95/95), done.\u001b[K\n",
            "remote: Compressing objects: 100% (67/67), done.\u001b[K\n",
            "remote: Total 1944 (delta 27), reused 54 (delta 13), pack-reused 1849\u001b[K\n",
            "Receiving objects: 100% (1944/1944), 358.86 MiB | 25.78 MiB/s, done.\n",
            "Resolving deltas: 100% (74/74), done.\n",
            "Checking out files: 100% (1876/1876), done.\n"
          ],
          "name": "stdout"
        }
      ]
    },
    {
      "cell_type": "code",
      "metadata": {
        "colab": {
          "base_uri": "https://localhost:8080/"
        },
        "id": "5I37I7tL1HV1",
        "outputId": "a3052e1b-2670-4bf0-a572-bc09113a5672"
      },
      "source": [
        "#!/usr/bin/env python\n",
        "__author__ = \"Sreenivas Bhattiprolu\"\n",
        "__license__ = \"Feel free to copy, I appreciate if you acknowledge Python for Microscopists\"\n",
        "\n",
        "# https://www.youtube.com/watch?v=PRceoMWcv1U\n",
        "\n",
        "\"\"\"\n",
        "All cell images resized to 128 x 128\n",
        "Images used for test are completely different that the ones used for training.\n",
        "136 images for testing, each parasitized and uninfected (136 x 2)\n",
        "104 images for training, each parasitized and uninfected (104 x 2)\n",
        "Cannot import lots of data to Github, so uploaded 10 images of each.\n",
        "Download full dataset from: ftp://lhcftp.nlm.nih.gov/Open-Access-Datasets/Malaria/cell_images.zip\n",
        "\"\"\"\n",
        "\n",
        "\n",
        "import cv2\n",
        "import numpy as np\n",
        "import os\n",
        "\n",
        "\n",
        "# Get the training classes names and store them in a list\n",
        "#Here we use folder names for class names\n",
        "\n",
        "#train_path = 'dataset/train'  # Names are Aeroplane, Bicycle, Car\n",
        "train_path = 'CT_COVID/Dataset/train'  # Folder Names are Parasitized and Uninfected\n",
        "training_names = os.listdir(train_path)\n",
        "\n",
        "# Get path to all images and save them in a list\n",
        "# image_paths and the corresponding label in image_paths\n",
        "image_paths = []\n",
        "image_classes = []\n",
        "class_id = 0\n",
        "\n",
        "#To make it easy to list all file names in a directory let us define a function\n",
        "#\n",
        "def imglist(path):    \n",
        "    return [os.path.join(path, f) for f in os.listdir(path)]\n",
        "\n",
        "#Fill the placeholder empty lists with image path, classes, and add class ID number\n",
        "#\n",
        "    \n",
        "for training_name in training_names:\n",
        "    dir = os.path.join(train_path, training_name)\n",
        "    class_path = imglist(dir)\n",
        "    image_paths+=class_path\n",
        "    image_classes+=[class_id]*len(class_path)\n",
        "    class_id+=1\n",
        "\n",
        "# Create feature extraction and keypoint detector objects\n",
        "    #SIFT is not available anymore in openCV    \n",
        "# Create List where all the descriptors will be stored\n",
        "des_list = []\n",
        "\n",
        "#BRISK is a good replacement to SIFT. ORB also works but didn;t work well for this example\n",
        "brisk = cv2.BRISK_create(30)\n",
        "\n",
        "for image_path in image_paths:\n",
        "    im = cv2.imread(image_path)\n",
        "    kpts, des = brisk.detectAndCompute(im, None)\n",
        "    des_list.append((image_path, des))   \n",
        "    \n",
        "# Stack all the descriptors vertically in a numpy array\n",
        "descriptors = des_list[0][1]\n",
        "for image_path, descriptor in des_list[1:]:\n",
        "    descriptors = np.vstack((descriptors, descriptor))  \n",
        "\n",
        "#kmeans works only on float, so convert integers to float\n",
        "descriptors_float = descriptors.astype(float)  \n",
        "\n",
        "# Perform k-means clustering and vector quantization\n",
        "from scipy.cluster.vq import kmeans, vq\n",
        "\n",
        "k = 200  #k means with 100 clusters gives lower accuracy for the aeroplane example\n",
        "voc, variance = kmeans(descriptors_float, k, 1) \n",
        "\n",
        "# Calculate the histogram of features and represent them as vector\n",
        "#vq Assigns codes from a code book to observations.\n",
        "im_features = np.zeros((len(image_paths), k), \"float32\")\n",
        "for i in range(len(image_paths)):\n",
        "    words, distance = vq(des_list[i][1],voc)\n",
        "    for w in words:\n",
        "        im_features[i][w] += 1\n",
        "\n",
        "# Perform Tf-Idf vectorization\n",
        "nbr_occurences = np.sum( (im_features > 0) * 1, axis = 0)\n",
        "idf = np.array(np.log((1.0*len(image_paths)+1) / (1.0*nbr_occurences + 1)), 'float32')\n",
        "\n",
        "# Scaling the words\n",
        "#Standardize features by removing the mean and scaling to unit variance\n",
        "#In a way normalization\n",
        "from sklearn.preprocessing import StandardScaler\n",
        "stdSlr = StandardScaler().fit(im_features)\n",
        "im_features = stdSlr.transform(im_features)\n",
        "\n",
        "#Train an algorithm to discriminate vectors corresponding to positive and negative training images\n",
        "# Train the Linear SVM\n",
        "from sklearn.svm import LinearSVC\n",
        "clf = LinearSVC(max_iter=10000)  #Default of 100 is not converging\n",
        "clf.fit(im_features, np.array(image_classes))\n",
        "\n",
        "#Train Random forest to compare how it does against SVM\n",
        "#from sklearn.ensemble import RandomForestClassifier\n",
        "#clf = RandomForestClassifier(n_estimators = 100, random_state=30)\n",
        "#clf.fit(im_features, np.array(image_classes))\n",
        "\n",
        "\n",
        "# Save the SVM\n",
        "#Joblib dumps Python object into one file\n",
        "from sklearn.externals import joblib\n",
        "joblib.dump((clf, training_names, stdSlr, k, voc), \"bovw.pkl\", compress=3)  "
      ],
      "execution_count": 2,
      "outputs": [
        {
          "output_type": "stream",
          "text": [
            "/usr/local/lib/python3.7/dist-packages/sklearn/externals/joblib/__init__.py:15: FutureWarning: sklearn.externals.joblib is deprecated in 0.21 and will be removed in 0.23. Please import this functionality directly from joblib, which can be installed with: pip install joblib. If this warning is raised when loading pickled models, you may need to re-serialize those models with scikit-learn 0.21+.\n",
            "  warnings.warn(msg, category=FutureWarning)\n"
          ],
          "name": "stderr"
        },
        {
          "output_type": "execute_result",
          "data": {
            "text/plain": [
              "['bovw.pkl']"
            ]
          },
          "metadata": {
            "tags": []
          },
          "execution_count": 2
        }
      ]
    },
    {
      "cell_type": "code",
      "metadata": {
        "colab": {
          "base_uri": "https://localhost:8080/",
          "height": 403
        },
        "id": "e_H7AmfT1LLW",
        "outputId": "d7b2025b-b027-447a-9e12-f8d6f4c7f6ce"
      },
      "source": [
        "#!/usr/bin/env python\n",
        "__author__ = \"Sreenivas Bhattiprolu\"\n",
        "__license__ = \"Feel free to copy, I appreciate if you acknowledge Python for Microscopists\"\n",
        "\n",
        "# https://www.youtube.com/watch?v=PRceoMWcv1U\n",
        "\n",
        "\n",
        "\"\"\"\n",
        "All cell images resized to 128 x 128\n",
        "Images used for test are completely different that the ones used for training.\n",
        "136 images for testing, each parasitized and uninfected (136 x 2)\n",
        "104 images for training, each parasitized and uninfected (104 x 2)\n",
        "\"\"\"\n",
        "\n",
        "\n",
        "import cv2\n",
        "import numpy as np\n",
        "import os\n",
        "import pylab as pl\n",
        "from sklearn.metrics import confusion_matrix, accuracy_score #sreeni\n",
        "from sklearn.externals import joblib\n",
        "\n",
        "\n",
        "# Load the classifier, class names, scaler, number of clusters and vocabulary \n",
        "#from stored pickle file (generated during training)\n",
        "clf, classes_names, stdSlr, k, voc = joblib.load(\"bovw.pkl\")\n",
        "\n",
        "# Get the path of the testing image(s) and store them in a list\n",
        "#test_path = 'dataset/test' # Names are Aeroplane, Bicycle, Car\n",
        "test_path = 'CT_COVID/Dataset/test'  # Folder Names are Parasitized and Uninfected\n",
        "#instead of test if you use train then we get great accuracy\n",
        "\n",
        "testing_names = os.listdir(test_path)\n",
        "\n",
        "# Get path to all images and save them in a list\n",
        "# image_paths and the corresponding label in image_paths\n",
        "image_paths = []\n",
        "image_classes = []\n",
        "class_id = 0\n",
        "\n",
        "#To make it easy to list all file names in a directory let us define a function\n",
        "#\n",
        "def imglist(path):\n",
        "    return [os.path.join(path, f) for f in os.listdir(path)]\n",
        "\n",
        "#Fill the placeholder empty lists with image path, classes, and add class ID number\n",
        "\n",
        "for testing_name in testing_names:\n",
        "    dir = os.path.join(test_path, testing_name)\n",
        "    class_path = imglist(dir)\n",
        "    image_paths+=class_path\n",
        "    image_classes+=[class_id]*len(class_path)\n",
        "    class_id+=1\n",
        "    \n",
        "# Create feature extraction and keypoint detector objects\n",
        "    #SIFT is not available anymore in openCV    \n",
        "# Create List where all the descriptors will be stored\n",
        "des_list = []\n",
        "\n",
        "#BRISK is a good replacement to SIFT. ORB also works but didn;t work well for this example\n",
        "brisk = cv2.BRISK_create(30)\n",
        "\n",
        "for image_path in image_paths:\n",
        "    im = cv2.imread(image_path)\n",
        "    kpts, des = brisk.detectAndCompute(im, None)\n",
        "    des_list.append((image_path, des))   \n",
        "    \n",
        "# Stack all the descriptors vertically in a numpy array\n",
        "descriptors = des_list[0][1]\n",
        "for image_path, descriptor in des_list[0:]:\n",
        "    descriptors = np.vstack((descriptors, descriptor)) \n",
        "\n",
        "# Calculate the histogram of features\n",
        "#vq Assigns codes from a code book to observations.\n",
        "from scipy.cluster.vq import vq    \n",
        "test_features = np.zeros((len(image_paths), k), \"float32\")\n",
        "for i in range(len(image_paths)):\n",
        "    words, distance = vq(des_list[i][1],voc)\n",
        "    for w in words:\n",
        "        test_features[i][w] += 1\n",
        "\n",
        "# Perform Tf-Idf vectorization\n",
        "nbr_occurences = np.sum( (test_features > 0) * 1, axis = 0)\n",
        "idf = np.array(np.log((1.0*len(image_paths)+1) / (1.0*nbr_occurences + 1)), 'float32')\n",
        "\n",
        "# Scale the features\n",
        "#Standardize features by removing the mean and scaling to unit variance\n",
        "#Scaler (stdSlr comes from the pickled file we imported)\n",
        "test_features = stdSlr.transform(test_features)\n",
        "\n",
        "#######Until here most of the above code is similar to Train except for kmeans clustering####\n",
        "\n",
        "#Report true class names so they can be compared with predicted classes\n",
        "true_class =  [classes_names[i] for i in image_classes]\n",
        "# Perform the predictions and report predicted class names. \n",
        "predictions =  [classes_names[i] for i in clf.predict(test_features)]\n",
        "\n",
        "\n",
        "#Print the true class and Predictions \n",
        "print (\"true_class =\"  + str(true_class))\n",
        "print (\"prediction =\"  + str(predictions))\n",
        "\n",
        "###############################################\n",
        "#To make it easy to understand the accuracy let us print the confusion matrix\n",
        "\n",
        "def showconfusionmatrix(cm):\n",
        "    pl.matshow(cm)\n",
        "    pl.title('Confusion matrix')\n",
        "    pl.colorbar()\n",
        "    pl.show()\n",
        "\n",
        "\n",
        "accuracy = accuracy_score(true_class, predictions)\n",
        "print (\"accuracy = \", accuracy)\n",
        "cm = confusion_matrix(true_class, predictions)\n",
        "print (cm)\n",
        "\n",
        "showconfusionmatrix(cm)\n",
        "\n",
        "################# sreeni ###########################\n",
        "\"\"\"\n",
        "#For classification of unknown files we can print the predictions\n",
        "#Print the Predictions \n",
        "print (\"Image =\", image_paths)\n",
        "print (\"prediction =\"  + str(predictions))\n",
        "#np.transpose to save data into columns, otherwise saving as rows\n",
        "np.savetxt ('mydata.csv', np.transpose([image_paths, predictions]),fmt='%s', delimiter=',', newline='\\n')\n",
        "\"\"\""
      ],
      "execution_count": 3,
      "outputs": [
        {
          "output_type": "stream",
          "text": [
            "true_class =['Noncovid', 'Noncovid', 'Noncovid', 'Noncovid', 'Noncovid', 'Noncovid', 'Noncovid', 'Noncovid', 'Noncovid', 'Noncovid', 'Noncovid', 'Noncovid', 'Noncovid', 'Noncovid', 'Noncovid', 'Noncovid', 'Noncovid', 'Noncovid', 'Noncovid', 'Noncovid', 'Noncovid', 'Noncovid', 'Noncovid', 'Noncovid', 'Noncovid', 'Noncovid', 'Noncovid', 'Noncovid', 'Noncovid', 'Noncovid', 'Covid', 'Covid', 'Covid', 'Covid', 'Covid', 'Covid', 'Covid', 'Covid', 'Covid', 'Covid', 'Covid', 'Covid', 'Covid', 'Covid', 'Covid', 'Covid', 'Covid', 'Covid', 'Covid', 'Covid', 'Covid', 'Covid', 'Covid', 'Covid', 'Covid', 'Covid', 'Covid', 'Covid', 'Covid', 'Covid']\n",
            "prediction =['Covid', 'Noncovid', 'Noncovid', 'Noncovid', 'Covid', 'Covid', 'Covid', 'Noncovid', 'Noncovid', 'Noncovid', 'Covid', 'Noncovid', 'Covid', 'Noncovid', 'Covid', 'Noncovid', 'Noncovid', 'Covid', 'Covid', 'Noncovid', 'Noncovid', 'Noncovid', 'Covid', 'Covid', 'Covid', 'Covid', 'Covid', 'Noncovid', 'Covid', 'Covid', 'Covid', 'Covid', 'Noncovid', 'Covid', 'Covid', 'Noncovid', 'Covid', 'Covid', 'Noncovid', 'Noncovid', 'Noncovid', 'Noncovid', 'Covid', 'Covid', 'Noncovid', 'Covid', 'Covid', 'Covid', 'Covid', 'Noncovid', 'Noncovid', 'Noncovid', 'Noncovid', 'Covid', 'Covid', 'Noncovid', 'Noncovid', 'Noncovid', 'Noncovid', 'Noncovid']\n",
            "accuracy =  0.4666666666666667\n",
            "[[14 16]\n",
            " [16 14]]\n"
          ],
          "name": "stdout"
        },
        {
          "output_type": "display_data",
          "data": {
            "image/png": "[encoded data removed]",
            "text/plain": [
              "<Figure size 288x288 with 2 Axes>"
            ]
          },
          "metadata": {
            "tags": [],
            "needs_background": "light"
          }
        },
        {
          "output_type": "execute_result",
          "data": {
            "application/vnd.google.colaboratory.intrinsic+json": {
              "type": "string"
            },
            "text/plain": [
              "'\\n#For classification of unknown files we can print the predictions\\n#Print the Predictions \\nprint (\"Image =\", image_paths)\\nprint (\"prediction =\"  + str(predictions))\\n#np.transpose to save data into columns, otherwise saving as rows\\nnp.savetxt (\\'mydata.csv\\', np.transpose([image_paths, predictions]),fmt=\\'%s\\', delimiter=\\',\\', newline=\\'\\n\\')\\n'"
            ]
          },
          "metadata": {
            "tags": []
          },
          "execution_count": 3
        }
      ]
    }
  ]
}